{
  "nbformat": 4,
  "nbformat_minor": 0,
  "metadata": {
    "colab": {
      "provenance": [],
      "gpuType": "T4",
      "include_colab_link": true
    },
    "kernelspec": {
      "name": "python3",
      "display_name": "Python 3"
    },
    "accelerator": "GPU"
  },
  "cells": [
    {
      "cell_type": "markdown",
      "metadata": {
        "id": "view-in-github",
        "colab_type": "text"
      },
      "source": [
        "<a href=\"https://colab.research.google.com/github/MarcoDelCore/AML_Lab/blob/main/Homework1_AML.ipynb\" target=\"_parent\"><img src=\"https://colab.research.google.com/assets/colab-badge.svg\" alt=\"Open In Colab\"/></a>"
      ]
    },
    {
      "cell_type": "markdown",
      "metadata": {
        "id": "c9QcGnGPdX2C"
      },
      "source": [
        "\n",
        "**Install requirements**"
      ]
    },
    {
      "cell_type": "code",
      "metadata": {
        "id": "k9O3aM3Tb28q",
        "colab": {
          "base_uri": "https://localhost:8080/"
        },
        "outputId": "5beb9f62-ca3b-49af-ea02-a567f4833ca7"
      },
      "source": [
        "!pip3 install torch torchvision torchaudio"
      ],
      "execution_count": 1,
      "outputs": [
        {
          "output_type": "stream",
          "name": "stdout",
          "text": [
            "Requirement already satisfied: torch in /usr/local/lib/python3.10/dist-packages (2.5.1+cu121)\n",
            "Requirement already satisfied: torchvision in /usr/local/lib/python3.10/dist-packages (0.20.1+cu121)\n",
            "Requirement already satisfied: torchaudio in /usr/local/lib/python3.10/dist-packages (2.5.1+cu121)\n",
            "Requirement already satisfied: filelock in /usr/local/lib/python3.10/dist-packages (from torch) (3.16.1)\n",
            "Requirement already satisfied: typing-extensions>=4.8.0 in /usr/local/lib/python3.10/dist-packages (from torch) (4.12.2)\n",
            "Requirement already satisfied: networkx in /usr/local/lib/python3.10/dist-packages (from torch) (3.4.2)\n",
            "Requirement already satisfied: jinja2 in /usr/local/lib/python3.10/dist-packages (from torch) (3.1.4)\n",
            "Requirement already satisfied: fsspec in /usr/local/lib/python3.10/dist-packages (from torch) (2024.10.0)\n",
            "Requirement already satisfied: sympy==1.13.1 in /usr/local/lib/python3.10/dist-packages (from torch) (1.13.1)\n",
            "Requirement already satisfied: mpmath<1.4,>=1.1.0 in /usr/local/lib/python3.10/dist-packages (from sympy==1.13.1->torch) (1.3.0)\n",
            "Requirement already satisfied: numpy in /usr/local/lib/python3.10/dist-packages (from torchvision) (1.26.4)\n",
            "Requirement already satisfied: pillow!=8.3.*,>=5.3.0 in /usr/local/lib/python3.10/dist-packages (from torchvision) (11.0.0)\n",
            "Requirement already satisfied: MarkupSafe>=2.0 in /usr/local/lib/python3.10/dist-packages (from jinja2->torch) (3.0.2)\n"
          ]
        }
      ]
    },
    {
      "cell_type": "code",
      "source": [
        "!pip3 install 'tqdm'"
      ],
      "metadata": {
        "id": "qVKGznT4y4QT",
        "colab": {
          "base_uri": "https://localhost:8080/"
        },
        "outputId": "76719866-6cc9-4612-bf67-eb818085f4ed"
      },
      "execution_count": 2,
      "outputs": [
        {
          "output_type": "stream",
          "name": "stdout",
          "text": [
            "Requirement already satisfied: tqdm in /usr/local/lib/python3.10/dist-packages (4.66.6)\n"
          ]
        }
      ]
    },
    {
      "cell_type": "markdown",
      "metadata": {
        "id": "fo942LMOdlh4"
      },
      "source": [
        "**Import libraries**"
      ]
    },
    {
      "cell_type": "code",
      "metadata": {
        "id": "DokFOdD1dJEl"
      },
      "source": [
        "import os\n",
        "import logging\n",
        "\n",
        "import torch\n",
        "import torch.nn as nn\n",
        "import torch.optim as optim\n",
        "from torch.utils.data import Subset, DataLoader\n",
        "from torch.backends import cudnn\n",
        "\n",
        "import torchvision\n",
        "from torchvision import transforms\n",
        "from torchvision.models import alexnet\n",
        "\n",
        "from PIL import Image\n",
        "from tqdm import tqdm\n",
        "from sklearn.model_selection import train_test_split"
      ],
      "execution_count": 3,
      "outputs": []
    },
    {
      "cell_type": "markdown",
      "metadata": {
        "id": "OIDLJuIXK_vh"
      },
      "source": [
        "**Set Arguments**"
      ]
    },
    {
      "cell_type": "code",
      "source": [
        "PRE_TRAINED = True     # set to True to load the pre-trained AlexNet\n",
        "\n",
        "FREEZING = None        # define which layers of the network will be kept frozen\n",
        "                       # None : train the whole network\n",
        "                       # \"CONV\" : train only the FC-layers\n",
        "                       # \"FC\" : train only the conv-layers\n",
        "\n",
        "AUG_PROB = 0.5   # the probability with witch each image is transformed at training time during each epoch\n",
        "AUG_TYPE = None      # define the type of augmentation pipeline\n",
        "                     # None for no data augmentation\n",
        "                     # \"CS-HF\" for contrast + saturation + horizontal flip\n",
        "                     # \"H-RP\" for hue + random perspective\n",
        "                     # \"B-GS-R\" for brightness + grayscale + rotation\n",
        ""
      ],
      "metadata": {
        "id": "uPMPgJL2JfDh"
      },
      "execution_count": 4,
      "outputs": []
    },
    {
      "cell_type": "code",
      "metadata": {
        "id": "d5PkYfqfK_SA"
      },
      "source": [
        "DEVICE = 'cuda' # 'cuda' or 'cpu'\n",
        "\n",
        "NUM_CLASSES = 102 # 101 + 1: There is am extra Background class that should be removed\n",
        "\n",
        "BATCH_SIZE = 256     # Higher batch sizes allows for larger learning rates. An empirical heuristic suggests that, when changing\n",
        "                     # the batch size, learning rate should change by the same factor to have comparable results\n",
        "\n",
        "LR = 1e-3            # The initial Learning Rate\n",
        "MOMENTUM = 0.9       # Hyperparameter for SGD, keep this at 0.9 when using SGD\n",
        "WEIGHT_DECAY = 5e-5  # Regularization, you can keep this at the default\n",
        "\n",
        "NUM_EPOCHS = 30      # Total number of training epochs (iterations over dataset)\n",
        "STEP_SIZE = 20       # How many epochs before decreasing learning rate (if using a step-down policy)\n",
        "GAMMA = 0.1          # Multiplicative factor for learning rate step-down\n",
        "\n",
        "LOG_FREQUENCY = 10"
      ],
      "execution_count": 5,
      "outputs": []
    },
    {
      "cell_type": "markdown",
      "metadata": {
        "id": "9gwii0TBHvzh"
      },
      "source": [
        "**Define Data Preprocessing**"
      ]
    },
    {
      "cell_type": "code",
      "source": [
        "if PRE_TRAINED:\n",
        "  normalizer = transforms.Normalize(mean=(0.485, 0.456, 0.406), std=(0.229, 0.224, 0.225))\n",
        "else:\n",
        "  normalizer = transforms.Normalize(mean = (0.5, 0.5, 0.5), std=(0.229, 0.224, 0.225))\n",
        "\n",
        "# Define transforms for training phase\n",
        "train_transform = transforms.Compose([transforms.Resize(256),      # Resizes short size of the PIL image to 256\n",
        "                                      transforms.CenterCrop(224),  # Crops a central square patch of the image\n",
        "                                                                   # 224 because torchvision's AlexNet needs a 224x224 input!\n",
        "                                                                   # Remember this when applying different transformations, otherwise you get an error\n",
        "                                      transforms.ToTensor()\n",
        "])\n",
        "\n",
        "\n",
        "# Define transforms for the evaluation phase\n",
        "eval_transform = transforms.Compose([transforms.Resize(256),\n",
        "                                      transforms.CenterCrop(224),\n",
        "                                     transforms.ToTensor()\n",
        "])\n",
        "\n",
        "bright_t = transforms.ColorJitter(brightness=[1,2])\n",
        "contrast_t = transforms.ColorJitter(contrast = [2,5])\n",
        "saturation_t = transforms.ColorJitter(saturation = [1,3])\n",
        "hue_t = transforms.ColorJitter(hue = 0.2)\n",
        "gs_t = transforms.Grayscale(3)\n",
        "hflip_t = transforms.RandomHorizontalFlip(p = 1)\n",
        "rp_t = transforms.RandomPerspective(p = 1, distortion_scale = 0.5)\n",
        "rot_t = transforms.RandomRotation(degrees = 90)\n",
        "\n",
        "aug_transformations = {\n",
        "    \"CS-HF\": transforms.Compose([contrast_t, saturation_t, hflip_t]),\n",
        "    \"H-RP\": transforms.Compose([hue_t, rp_t]),\n",
        "    \"B-GS-R\": transforms.Compose([bright_t, gs_t, rot_t])\n",
        "    }\n",
        "\n",
        "if AUG_TYPE is not None:\n",
        "  aug_transformation = aug_transformations[AUG_TYPE]\n",
        "  aug_pipeline = transforms.Compose([\n",
        "                                      transforms.ToPILImage(),\n",
        "                                      transforms.RandomApply([aug_transformation], p = AUG_PROB),\n",
        "                                      transforms.ToTensor(),\n",
        "                                      normalizer\n",
        "                                     ])\n",
        "else:\n",
        "  aug_pipeline = normalizer"
      ],
      "metadata": {
        "id": "Fnwxrk58JkJj"
      },
      "execution_count": 6,
      "outputs": []
    },
    {
      "cell_type": "markdown",
      "metadata": {
        "id": "2qYIHPzYLY7i"
      },
      "source": [
        "**Prepare Dataset**"
      ]
    },
    {
      "cell_type": "code",
      "source": [
        "from torchvision.datasets import VisionDataset\n",
        "\n",
        "from PIL import Image\n",
        "\n",
        "import os\n",
        "import os.path\n",
        "import sys\n",
        "import pandas as pd\n",
        "\n",
        "def pil_loader(path):\n",
        "    # open path as file to avoid ResourceWarning (https://github.com/python-pillow/Pillow/issues/835)\n",
        "    with open(path, 'rb') as f:\n",
        "        img = Image.open(f)\n",
        "        return img.convert('RGB')\n",
        "\n",
        "\n",
        "class Caltech(VisionDataset):\n",
        "    def __init__(self, root, split='train', transform=None, target_transform=None):\n",
        "        super(Caltech, self).__init__(root, transform=transform, target_transform=target_transform)\n",
        "        '''\n",
        "        - Here you should implement the logic for reading the splits files and accessing elements\n",
        "        - If the RAM size allows it, it is faster to store all data in memory\n",
        "        - PyTorch Dataset classes use indexes to read elements\n",
        "        - You should provide a way for the __getitem__ method to access the image-label pair\n",
        "          through the index\n",
        "        - Labels should start from 0, so for Caltech you will have lables 0...100 (excluding the background class)\n",
        "        '''\n",
        "\n",
        "        self.split = split # This defines the split you are going to use\n",
        "                           # (split files are called 'train.txt' and 'test.txt')\n",
        "\n",
        "        images_paths = []\n",
        "        labels = []\n",
        "\n",
        "        self.categories = os.listdir(self.root)\n",
        "        self.categories.remove(\"BACKGROUND_Google\")\n",
        "\n",
        "        for path in open(f\"./Caltech101/{self.split}.txt\"):\n",
        "          path = path.replace(\"\\n\", \"\")\n",
        "          category = path.split(\"/\")[0]\n",
        "          if(category != \"BACKGROUND_Google\"):\n",
        "            image_path = self.root + \"/\" + path\n",
        "            images_paths.append(image_path)\n",
        "            labels.append(self.categories.index(category))\n",
        "\n",
        "        self.data = pd.DataFrame(zip(images_paths, labels), columns = [\"image_path\", \"label\"])\n",
        "\n",
        "\n",
        "    def __getitem__(self, index):\n",
        "        '''\n",
        "        __getitem__ should access an element through its index\n",
        "        Args:\n",
        "            index (int): Index\n",
        "\n",
        "        Returns:\n",
        "            tuple: (sample, target) where target is class_index of the target class.\n",
        "        '''\n",
        "        image_path = self.data[\"image_path\"].iloc[index]\n",
        "        image, label = pil_loader(image_path), self.data[\"label\"].iloc[index]\n",
        "\n",
        "        # Applies preprocessing when accessing the image\n",
        "        if self.transform is not None:\n",
        "            image = self.transform(image)\n",
        "\n",
        "        return image, label\n",
        "\n",
        "    def __len__(self):\n",
        "        '''\n",
        "        The __len__ method returns the length of the dataset\n",
        "        It is mandatory, as this is used by several other components\n",
        "        '''\n",
        "        length = len(self.data) # Provide a way to get the length (number of elements) of the dataset\n",
        "        return length"
      ],
      "metadata": {
        "id": "jxm50Cm9IBz-"
      },
      "execution_count": 7,
      "outputs": []
    },
    {
      "cell_type": "code",
      "metadata": {
        "id": "QfVq_uDHLbsR",
        "colab": {
          "base_uri": "https://localhost:8080/"
        },
        "collapsed": true,
        "outputId": "4e76a189-7a7a-40de-c9b9-ca45bdc68294"
      },
      "source": [
        "# Clone github repository with data\n",
        "if not os.path.isdir('./Caltech101'):\n",
        "  !git clone https://github.com/MachineLearning2020/Homework2-Caltech101.git\n",
        "  !mv 'Homework2-Caltech101' 'Caltech101'\n",
        "\n",
        "DATA_DIR = 'Caltech101/101_ObjectCategories'\n",
        "\n",
        "# Prepare Pytorch train/test Datasets\n",
        "train_dataset_big = Caltech(DATA_DIR, split='train',  transform=train_transform)\n",
        "test_dataset = Caltech(DATA_DIR, split='test', transform=eval_transform)\n",
        "\n",
        "indexes = range(0, len(train_dataset_big))\n",
        "splitting = train_test_split(indexes, train_size = 0.5, random_state = 42, stratify = train_dataset_big.data[\"label\"], shuffle = True)\n",
        "train_indexes = splitting[0]\n",
        "val_indexes = splitting[1]\n",
        "\n",
        "train_dataset = Subset(train_dataset_big, train_indexes)\n",
        "val_dataset = Subset(train_dataset_big, val_indexes)\n",
        "\n",
        "# Check dataset sizes\n",
        "print('Train Dataset: {}'.format(len(train_dataset)))\n",
        "print('Valid Dataset: {}'.format(len(val_dataset)))\n",
        "print('Test Dataset: {}'.format(len(test_dataset)))"
      ],
      "execution_count": 8,
      "outputs": [
        {
          "output_type": "stream",
          "name": "stdout",
          "text": [
            "Cloning into 'Homework2-Caltech101'...\n",
            "remote: Enumerating objects: 9256, done.\u001b[K\n",
            "remote: Total 9256 (delta 0), reused 0 (delta 0), pack-reused 9256 (from 1)\u001b[K\n",
            "Receiving objects: 100% (9256/9256), 129.48 MiB | 15.86 MiB/s, done.\n",
            "Resolving deltas: 100% (4/4), done.\n",
            "Updating files: 100% (9149/9149), done.\n",
            "Train Dataset: 2892\n",
            "Valid Dataset: 2892\n",
            "Test Dataset: 2893\n"
          ]
        }
      ]
    },
    {
      "cell_type": "markdown",
      "metadata": {
        "id": "FYEDQ7Z21ldN"
      },
      "source": [
        "**Prepare Dataloaders**"
      ]
    },
    {
      "cell_type": "code",
      "metadata": {
        "id": "VriRw8SI1nle",
        "outputId": "27a01c06-8db9-4f35-8fff-62d0a9af7929",
        "colab": {
          "base_uri": "https://localhost:8080/"
        }
      },
      "source": [
        "# Dataloaders iterate over pytorch datasets and transparently provide useful functions (e.g. parallelization and shuffling)\n",
        "train_dataloader = DataLoader(train_dataset, batch_size=BATCH_SIZE, shuffle=True, num_workers=4, drop_last=True)\n",
        "val_dataloader = DataLoader(val_dataset, batch_size=BATCH_SIZE, shuffle=False, num_workers=4)\n",
        "\n",
        "test_dataloader = DataLoader(test_dataset, batch_size=BATCH_SIZE, shuffle=False, num_workers=4)"
      ],
      "execution_count": 9,
      "outputs": [
        {
          "output_type": "stream",
          "name": "stderr",
          "text": [
            "/usr/local/lib/python3.10/dist-packages/torch/utils/data/dataloader.py:617: UserWarning: This DataLoader will create 4 worker processes in total. Our suggested max number of worker in current system is 2, which is smaller than what this DataLoader is going to create. Please be aware that excessive worker creation might get DataLoader running slow or even freeze, lower the worker number to avoid potential slowness/freeze if necessary.\n",
            "  warnings.warn(\n"
          ]
        }
      ]
    },
    {
      "cell_type": "markdown",
      "metadata": {
        "id": "gbZ1t5Qs2z4j"
      },
      "source": [
        "**Prepare Network**"
      ]
    },
    {
      "cell_type": "code",
      "metadata": {
        "id": "exHUjtXa22DN",
        "outputId": "dc631ba7-fd1b-41de-c5f5-be03de7c1655",
        "colab": {
          "base_uri": "https://localhost:8080/"
        }
      },
      "source": [
        "net = alexnet(pretrained=PRE_TRAINED) # Loading AlexNet model\n",
        "\n",
        "# AlexNet has 1000 output neurons, corresponding to the 1000 ImageNet's classes\n",
        "# We need 101 outputs for Caltech-101\n",
        "net.classifier[6] = nn.Linear(4096, NUM_CLASSES) # nn.Linear in pytorch is a fully connected layer\n",
        "                                                 # The convolutional layer is nn.Conv2d\n",
        "\n",
        "# We just changed the last layer of AlexNet with a new fully connected layer with 101 outputs\n",
        "# It is strongly suggested to study torchvision.models.alexnet source code"
      ],
      "execution_count": 10,
      "outputs": [
        {
          "output_type": "stream",
          "name": "stderr",
          "text": [
            "/usr/local/lib/python3.10/dist-packages/torchvision/models/_utils.py:208: UserWarning: The parameter 'pretrained' is deprecated since 0.13 and may be removed in the future, please use 'weights' instead.\n",
            "  warnings.warn(\n",
            "/usr/local/lib/python3.10/dist-packages/torchvision/models/_utils.py:223: UserWarning: Arguments other than a weight enum or `None` for 'weights' are deprecated since 0.13 and may be removed in the future. The current behavior is equivalent to passing `weights=AlexNet_Weights.IMAGENET1K_V1`. You can also use `weights=AlexNet_Weights.DEFAULT` to get the most up-to-date weights.\n",
            "  warnings.warn(msg)\n",
            "Downloading: \"https://download.pytorch.org/models/alexnet-owt-7be5be79.pth\" to /root/.cache/torch/hub/checkpoints/alexnet-owt-7be5be79.pth\n",
            "100%|██████████| 233M/233M [00:02<00:00, 107MB/s] \n"
          ]
        }
      ]
    },
    {
      "cell_type": "markdown",
      "metadata": {
        "id": "KEyL3H_R4qCf"
      },
      "source": [
        "**Prepare Training**"
      ]
    },
    {
      "cell_type": "code",
      "metadata": {
        "id": "9sjq00G94tSc"
      },
      "source": [
        "# Define loss function\n",
        "criterion = nn.CrossEntropyLoss() # for classification, we use Cross Entropy\n",
        "\n",
        "# Choose parameters to optimize\n",
        "# e.g.: parameters of the whole network: net.parameters()\n",
        "# e.g.: parameters of the fully connected layers: net.classifier.parameters()\n",
        "# e.g.: parameters of the convolutional layers: net.features.parameters() or net.fc.parameters()\n",
        "if FREEZING is not None:\n",
        "  if FREEZING == \"FC\":\n",
        "    parameters_to_optimize = net.features.parameters()\n",
        "  else:\n",
        "    # parameters_to_optimize = net.classifier.parameters()\n",
        "    parameters_to_optimize = net.fc.parameters()\n",
        "else:\n",
        "  parameters_to_optimize = net.parameters()\n",
        "\n",
        "# Define optimizer\n",
        "# An optimizer updates the weights based on loss\n",
        "# We use SGD with momentum\n",
        "optimizer = optim.SGD(parameters_to_optimize, lr=LR, momentum=MOMENTUM, weight_decay=WEIGHT_DECAY)\n",
        "\n",
        "# Define scheduler\n",
        "# A scheduler dynamically changes learning rate\n",
        "# The most common schedule is the step(-down), which multiplies learning rate by gamma every STEP_SIZE epochs\n",
        "scheduler = optim.lr_scheduler.StepLR(optimizer, step_size=STEP_SIZE, gamma=GAMMA)"
      ],
      "execution_count": 11,
      "outputs": []
    },
    {
      "cell_type": "markdown",
      "metadata": {
        "id": "UsHFI-GAJd69"
      },
      "source": [
        "**Validation**"
      ]
    },
    {
      "cell_type": "code",
      "metadata": {
        "id": "EO3HV5pqJg1o"
      },
      "source": [
        "def evaluate(net, dataloader, print_tqdm = True):\n",
        "  with torch.no_grad():\n",
        "    net = net.to(DEVICE) # this will bring the network to GPU if DEVICE is cuda\n",
        "    net.train(False) # Set Network to evaluation mode\n",
        "    running_corrects = 0\n",
        "    iterable = tqdm(dataloader) if print_tqdm else dataloader\n",
        "    losses = []\n",
        "    for images, labels in iterable:\n",
        "      norm_images = []\n",
        "      for image in images:\n",
        "        norm_image = normalizer(image)\n",
        "        norm_images.append(norm_image)\n",
        "      norm_images = torch.stack(norm_images)\n",
        "      norm_images = norm_images.to(DEVICE)\n",
        "      labels = labels.to(DEVICE)\n",
        "      # Forward Pass\n",
        "      outputs = net(norm_images)\n",
        "      loss = criterion(outputs, labels)\n",
        "      losses.append(loss.item())\n",
        "      # Get predictions\n",
        "      _, preds = torch.max(outputs.data, 1)\n",
        "      # Update Corrects\n",
        "      running_corrects += torch.sum(preds == labels.data).data.item()\n",
        "    # Calculate Accuracy\n",
        "    accuracy = running_corrects / float(len(dataloader.dataset))\n",
        "\n",
        "  return accuracy, mean(losses)"
      ],
      "execution_count": 12,
      "outputs": []
    },
    {
      "cell_type": "markdown",
      "source": [
        "**Train**"
      ],
      "metadata": {
        "id": "kV8EYlTiKHlQ"
      }
    },
    {
      "cell_type": "code",
      "source": [
        "from statistics import mean\n",
        "\n",
        "# By default, everything is loaded to cpu\n",
        "net = net.to(DEVICE) # this will bring the network to GPU if DEVICE is cuda\n",
        "val_accuracies = []\n",
        "val_losses = []\n",
        "train_accuracies = []\n",
        "train_losses = []\n",
        "cudnn.benchmark # Calling this optimizes runtime\n",
        "\n",
        "current_step = 0\n",
        "# Start iterating over the epochs\n",
        "for epoch in range(NUM_EPOCHS):\n",
        "  print('Starting epoch {}/{}, LR = {}'.format(epoch+1, NUM_EPOCHS, scheduler.get_lr()))\n",
        "\n",
        "  # Iterate over the dataset\n",
        "  for images, labels in train_dataloader:\n",
        "    aug_images = []\n",
        "\n",
        "    for image in images:\n",
        "      aug_image = aug_pipeline(image)\n",
        "      aug_images.append(aug_image)\n",
        "\n",
        "    aug_images = torch.stack(aug_images)\n",
        "\n",
        "    # Bring data over the device of choice\n",
        "    aug_images = aug_images.to(DEVICE)\n",
        "    labels = labels.to(DEVICE)\n",
        "\n",
        "    net.train() # Sets module in training mode\n",
        "\n",
        "    # PyTorch, by default, accumulates gradients after each backward pass\n",
        "    # We need to manually set the gradients to zero before starting a new iteration\n",
        "    optimizer.zero_grad() # Zero-ing the gradients\n",
        "\n",
        "    # Forward pass to the network\n",
        "    outputs = net(aug_images)\n",
        "\n",
        "    # Compute loss based on output and ground truth\n",
        "    loss = criterion(outputs, labels)\n",
        "\n",
        "    # Log loss\n",
        "    if current_step % LOG_FREQUENCY == 0:\n",
        "      print('Step {}, Loss {}'.format(current_step, loss.item()))\n",
        "\n",
        "    # Compute gradients for each layer and update weights\n",
        "    loss.backward()  # backward pass: computes gradients\n",
        "    optimizer.step() # update weights based on accumulated gradients\n",
        "\n",
        "    current_step += 1\n",
        "\n",
        "  train_acc, train_loss = evaluate(net, train_dataloader, print_tqdm = False)\n",
        "  train_accuracies.append(train_acc)\n",
        "  train_losses.append(train_loss)\n",
        "\n",
        "  val_acc, val_loss = evaluate(net, val_dataloader, print_tqdm = False)\n",
        "  print('Step {}, Acc {}'.format(current_step, val_acc*100))\n",
        "\n",
        "  val_accuracies.append(val_acc)\n",
        "  val_losses.append(val_loss)\n",
        "\n",
        "  # Step the scheduler\n",
        "  scheduler.step()\n",
        "  # Step the scheduler\n",
        "  scheduler.step()"
      ],
      "metadata": {
        "id": "k_qSPp9QKMtr",
        "outputId": "5982d515-7b5e-44e4-cbe4-8e869c400acb",
        "colab": {
          "base_uri": "https://localhost:8080/"
        }
      },
      "execution_count": 13,
      "outputs": [
        {
          "output_type": "stream",
          "name": "stdout",
          "text": [
            "Starting epoch 1/30, LR = [0.001]\n"
          ]
        },
        {
          "output_type": "stream",
          "name": "stderr",
          "text": [
            "/usr/local/lib/python3.10/dist-packages/torch/optim/lr_scheduler.py:536: UserWarning: To get the last learning rate computed by the scheduler, please use `get_last_lr()`.\n",
            "  _warn_get_lr_called_within_step(self)\n"
          ]
        },
        {
          "output_type": "stream",
          "name": "stdout",
          "text": [
            "Step 0, Loss 4.838784217834473\n",
            "Step 10, Loss 3.3552134037017822\n",
            "Step 11, Acc 29.253112033195023\n",
            "Starting epoch 2/30, LR = [0.001]\n",
            "Step 20, Loss 2.3589861392974854\n",
            "Step 22, Acc 47.47579529737206\n",
            "Starting epoch 3/30, LR = [0.001]\n",
            "Step 30, Loss 1.8471862077713013\n",
            "Step 33, Acc 60.961272475795305\n",
            "Starting epoch 4/30, LR = [0.001]\n",
            "Step 40, Loss 1.1375612020492554\n",
            "Step 44, Acc 70.74688796680498\n",
            "Starting epoch 5/30, LR = [0.001]\n",
            "Step 50, Loss 0.7841759324073792\n",
            "Step 55, Acc 76.93637621023514\n",
            "Starting epoch 6/30, LR = [0.001]\n",
            "Step 60, Loss 0.5532436966896057\n",
            "Step 66, Acc 79.35684647302904\n",
            "Starting epoch 7/30, LR = [0.001]\n",
            "Step 70, Loss 0.28525134921073914\n",
            "Step 77, Acc 80.3941908713693\n",
            "Starting epoch 8/30, LR = [0.001]\n",
            "Step 80, Loss 0.2219586968421936\n",
            "Step 88, Acc 81.29322268326418\n",
            "Starting epoch 9/30, LR = [0.001]\n",
            "Step 90, Loss 0.15931110084056854\n",
            "Step 99, Acc 81.95020746887967\n",
            "Starting epoch 10/30, LR = [0.001]\n",
            "Step 100, Loss 0.09304947406053543\n",
            "Step 110, Acc 81.3969571230982\n",
            "Starting epoch 11/30, LR = [1e-05]\n",
            "Step 110, Loss 0.15508298575878143\n",
            "Step 120, Loss 0.1293102353811264\n",
            "Step 121, Acc 81.70816044260027\n",
            "Starting epoch 12/30, LR = [0.0001]\n",
            "Step 130, Loss 0.11463227868080139\n",
            "Step 132, Acc 82.29598893499308\n",
            "Starting epoch 13/30, LR = [0.0001]\n",
            "Step 140, Loss 0.09396384656429291\n",
            "Step 143, Acc 82.53803596127247\n",
            "Starting epoch 14/30, LR = [0.0001]\n",
            "Step 150, Loss 0.08412113040685654\n",
            "Step 154, Acc 82.60719225449516\n",
            "Starting epoch 15/30, LR = [0.0001]\n",
            "Step 160, Loss 0.09198540449142456\n",
            "Step 165, Acc 82.78008298755186\n",
            "Starting epoch 16/30, LR = [0.0001]\n",
            "Step 170, Loss 0.08784075826406479\n",
            "Step 176, Acc 83.02213001383126\n",
            "Starting epoch 17/30, LR = [0.0001]\n",
            "Step 180, Loss 0.046711284667253494\n",
            "Step 187, Acc 83.09128630705395\n",
            "Starting epoch 18/30, LR = [0.0001]\n",
            "Step 190, Loss 0.07265842705965042\n",
            "Step 198, Acc 83.22959889349931\n",
            "Starting epoch 19/30, LR = [0.0001]\n",
            "Step 200, Loss 0.08849352598190308\n",
            "Step 209, Acc 82.91839557399724\n",
            "Starting epoch 20/30, LR = [0.0001]\n",
            "Step 210, Loss 0.08580289781093597\n",
            "Step 220, Acc 83.12586445366529\n",
            "Starting epoch 21/30, LR = [1.0000000000000002e-06]\n",
            "Step 220, Loss 0.06978242099285126\n",
            "Step 230, Loss 0.06595124304294586\n",
            "Step 231, Acc 83.09128630705395\n",
            "Starting epoch 22/30, LR = [1e-05]\n",
            "Step 240, Loss 0.10413610935211182\n",
            "Step 242, Acc 83.09128630705395\n",
            "Starting epoch 23/30, LR = [1e-05]\n",
            "Step 250, Loss 0.04759133979678154\n",
            "Step 253, Acc 83.02213001383126\n",
            "Starting epoch 24/30, LR = [1e-05]\n",
            "Step 260, Loss 0.06995704770088196\n",
            "Step 264, Acc 83.05670816044261\n",
            "Starting epoch 25/30, LR = [1e-05]\n",
            "Step 270, Loss 0.04830915108323097\n",
            "Step 275, Acc 83.09128630705395\n",
            "Starting epoch 26/30, LR = [1e-05]\n",
            "Step 280, Loss 0.06970396637916565\n",
            "Step 286, Acc 83.12586445366529\n",
            "Starting epoch 27/30, LR = [1e-05]\n",
            "Step 290, Loss 0.06746338307857513\n",
            "Step 297, Acc 83.12586445366529\n",
            "Starting epoch 28/30, LR = [1e-05]\n",
            "Step 300, Loss 0.05006890743970871\n",
            "Step 308, Acc 83.16044260027662\n",
            "Starting epoch 29/30, LR = [1e-05]\n",
            "Step 310, Loss 0.07931973040103912\n",
            "Step 319, Acc 83.19502074688798\n",
            "Starting epoch 30/30, LR = [1e-05]\n",
            "Step 320, Loss 0.09733346104621887\n",
            "Step 330, Acc 83.09128630705395\n"
          ]
        }
      ]
    },
    {
      "cell_type": "markdown",
      "source": [
        "**Test**"
      ],
      "metadata": {
        "id": "Zt42EwgRKU8e"
      }
    },
    {
      "cell_type": "code",
      "source": [
        "accuracy = evaluate(net, test_dataloader)[0]\n",
        "print('\\nTest Accuracy: {}'.format(accuracy))"
      ],
      "metadata": {
        "id": "kzBEeMlVKWoj",
        "outputId": "9c0c4181-3074-4a20-fb9a-368e5039b6a3",
        "colab": {
          "base_uri": "https://localhost:8080/"
        }
      },
      "execution_count": 14,
      "outputs": [
        {
          "output_type": "stream",
          "name": "stderr",
          "text": [
            "100%|██████████| 12/12 [00:12<00:00,  1.08s/it]"
          ]
        },
        {
          "output_type": "stream",
          "name": "stdout",
          "text": [
            "\n",
            "Test Accuracy: 0.8209471137227792\n"
          ]
        },
        {
          "output_type": "stream",
          "name": "stderr",
          "text": [
            "\n"
          ]
        }
      ]
    }
  ]
}